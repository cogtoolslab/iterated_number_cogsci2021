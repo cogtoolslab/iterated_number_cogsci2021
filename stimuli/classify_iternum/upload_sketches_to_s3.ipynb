{
 "cells": [
  {
   "cell_type": "code",
   "execution_count": null,
   "metadata": {},
   "outputs": [],
   "source": [
    "import os\n",
    "import numpy as np\n",
    "from PIL import Image\n",
    "import matplotlib\n",
    "from matplotlib import pyplot,pylab\n",
    "plt = pyplot\n",
    "import scipy\n",
    "import seaborn as sns\n",
    "sns.set_style('white')\n",
    "import string\n",
    "import pandas as pd\n",
    "import json\n",
    "import pymongo as pm\n",
    "from glob import glob\n",
    "from IPython.display import clear_output\n",
    "import itertools \n",
    "from random import sample\n",
    "import importlib\n",
    "from PIL import Image"
   ]
  },
  {
   "cell_type": "markdown",
   "metadata": {},
   "source": [
    "### set up project paths"
   ]
  },
  {
   "cell_type": "code",
   "execution_count": null,
   "metadata": {},
   "outputs": [],
   "source": [
    "## root paths\n",
    "curr_dir = os.getcwd()\n",
    "proj_dir = os.path.abspath(os.path.join(curr_dir,'../..'))\n",
    "data_dir = os.path.abspath(os.path.join(curr_dir,'../..','data')) ## use relative paths\n",
    "stim_dir = os.path.abspath(os.path.join(proj_dir,'stimuli'))\n",
    "analysis_dir = os.path.abspath(os.path.join(curr_dir,'../..','analysis')) ## use relative paths\n",
    "plot_dir =  os.path.abspath(os.path.join(curr_dir,'../..','results','plots'))\n",
    "csv_dir = os.path.join(proj_dir, 'results','csv')\n",
    "sketch_dir = os.path.abspath(os.path.join(proj_dir,'sketches'))\n",
    "catch_dir = os.path.abspath(os.path.join(proj_dir,'stimuli/classify_iternum/catch_trial_stimuli'))    # we want to get the stims for the catch trials in our rating task\n",
    "\n",
    "\n",
    "## add helpers to python path\n",
    "import sys\n",
    "if os.path.join(proj_dir, 'utils') not in sys.path:\n",
    "    sys.path.append(os.path.join(proj_dir, 'utils'))\n",
    "import utils as h    \n"
   ]
  },
  {
   "cell_type": "markdown",
   "metadata": {},
   "source": [
    "### inspect stims and get image paths "
   ]
  },
  {
   "cell_type": "code",
   "execution_count": null,
   "metadata": {},
   "outputs": [],
   "source": [
    "## get sketch paths\n",
    "path_to_sketches = sketch_dir\n",
    "im_list = h.list_files(sketch_dir)\n",
    "assert len(im_list)==32*61 # num trials per game * num kosher games\n",
    "\n",
    "## get catch stim paths\n",
    "path_to_catches = catch_dir\n",
    "catch_list = h.list_files(catch_dir)\n",
    "assert len(catch_list)==12 # 8 number catch stims and 4 shape ones\n"
   ]
  },
  {
   "cell_type": "code",
   "execution_count": null,
   "metadata": {},
   "outputs": [],
   "source": [
    "## sort stims in place\n",
    "importlib.reload(h)\n",
    "h.sort_nicely(im_list)\n"
   ]
  },
  {
   "cell_type": "code",
   "execution_count": null,
   "metadata": {},
   "outputs": [],
   "source": [
    "## manually inspect the images\n",
    "imsize = 256\n",
    "fname = im_list[500]\n",
    "print(fname)\n",
    "Image.open(fname).resize((imsize,imsize))"
   ]
  },
  {
   "cell_type": "markdown",
   "metadata": {},
   "source": [
    "### upload stims to s3"
   ]
  },
  {
   "cell_type": "code",
   "execution_count": null,
   "metadata": {},
   "outputs": [],
   "source": [
    "import boto3\n",
    "import botocore"
   ]
  },
  {
   "cell_type": "code",
   "execution_count": null,
   "metadata": {},
   "outputs": [],
   "source": [
    "bucket_name = 'iternum-sketches'\n",
    "full_sketch_paths = h.list_files(path_to_sketches)\n",
    "h.sort_nicely(full_sketch_paths)"
   ]
  },
  {
   "cell_type": "code",
   "execution_count": null,
   "metadata": {},
   "outputs": [],
   "source": [
    "## helper to speed things up by not uploading images if they already exist, can be overriden \n",
    "def check_exists(s3, bucket_name, stim_name):\n",
    "    try:\n",
    "        s3.Object(bucket_name,stim_name).load()    \n",
    "        return True\n",
    "    except botocore.exceptions.ClientError as e:    \n",
    "        if (e.response['Error']['Code'] == \"404\"):\n",
    "            print('The object does not exist.')\n",
    "            return False\n",
    "        else:\n",
    "            print('Something else has gone wrong with {}'.format(stim_name))\n",
    "            \n"
   ]
  },
  {
   "cell_type": "code",
   "execution_count": null,
   "metadata": {},
   "outputs": [],
   "source": [
    "print(check_exists(boto3.resource('s3'), bucket_name, fname.split('/')[-1]))\n",
    "print(fname.split('/')[-1])\n",
    "# print(len(im_list))\n",
    "\n",
    "# print(full_sketch_paths[5])"
   ]
  },
  {
   "cell_type": "code",
   "execution_count": null,
   "metadata": {},
   "outputs": [],
   "source": [
    "\n",
    "# access the password and username for s3 from our local directory\n",
    "access_id = pd.read_csv(os.path.abspath(os.path.join(curr_dir,'../../../.aws/credentials')), header = None).values[1][0].split('=')[-1]          \n",
    "access_key = pd.read_csv(os.path.abspath(os.path.join(curr_dir,'../../../.aws/credentials')), header = None).values[2][0].split('=')[-1]      \n"
   ]
  },
  {
   "cell_type": "code",
   "execution_count": null,
   "metadata": {},
   "outputs": [],
   "source": [
    "reallyRun = 0\n",
    "if reallyRun: \n",
    "    ## tell user some useful information\n",
    "    print('Path to stimuli is : {}'.format(path_to_sketches))\n",
    "    print('Uploading to this bucket: {}'.format(bucket_name))\n",
    "\n",
    "    ## establish connection to s3 \n",
    "#     s3 = boto3.resource('s3')\n",
    "    s3 = boto3.resource('s3', \n",
    "                  region_name='us-east-1', \n",
    "                  aws_access_key_id=access_id, #\"STORE THIS LOCALLY! Boto3 should be accessing ~/.aws/credentials but it's not for some reason\",     \n",
    "                  aws_secret_access_key= access_key ) #'THIS TOO!'\n",
    "    \n",
    "    ## create a bucket with the appropriate bucket name\n",
    "    try: \n",
    "        b = s3.create_bucket(Bucket=bucket_name) \n",
    "        print('Created new bucket.')\n",
    "    except Exception as e:\n",
    "        print(e)\n",
    "        b = s3.Bucket(bucket_name)\n",
    "        print('Bucket already exists.')\n",
    "\n",
    "    ## do we want to overwrite files on s3?\n",
    "    overwrite = False\n",
    "    \n",
    "    ## set bucket and objects to public\n",
    "    b.Acl().put(ACL='public-read') ## sets bucket to public\n",
    "\n",
    "    ## now let's loop through stim paths and actually upload to s3 (woot!)\n",
    "    for i,path_to_file in enumerate(full_sketch_paths):\n",
    "        stim_name = path_to_file.split('/')[-1]\n",
    "        if ((check_exists(s3, bucket_name, stim_name)==False) | (overwrite==True)):\n",
    "            print('Now uploading {} | {} of {}'.format(path_to_file.split('/')[-1],(i+1),len(full_sketch_paths)))\n",
    "            s3.Object(bucket_name,stim_name).put(Body=open(path_to_file,'rb')) ## upload stimuli\n",
    "            s3.Object(bucket_name,stim_name).Acl().put(ACL='public-read') ## set access controls\n",
    "        else: \n",
    "            print('Skipping {} | {} of {} because it already exists.'.format(path_to_file.split('/')[-1],(i+1),len(full_stim_paths)))\n",
    "        clear_output(wait=True)\n",
    "\n",
    "    print('Done uploading images!')"
   ]
  },
  {
   "cell_type": "code",
   "execution_count": null,
   "metadata": {},
   "outputs": [],
   "source": [
    "# example:\n",
    "# https://iternum.s3.amazonaws.com/iternum-sketches/0074-988d4ee1-5766-47b5-bcbb-49a720aee30d%E2%80%A2bear_5%E2%80%A219%E2%80%A2number%E2%80%A2bear_6_049.png\n",
    "\n"
   ]
  },
  {
   "cell_type": "markdown",
   "metadata": {},
   "source": [
    "### Upload catch stims to a different bucket"
   ]
  },
  {
   "cell_type": "code",
   "execution_count": null,
   "metadata": {},
   "outputs": [],
   "source": [
    "catch_bucket_name = 'iternum-recog-catches'\n",
    "full_catch_paths = h.list_files(path_to_catches)\n",
    "h.sort_nicely(full_catch_paths)\n"
   ]
  },
  {
   "cell_type": "code",
   "execution_count": null,
   "metadata": {},
   "outputs": [],
   "source": [
    "reallyRun = 0\n",
    "if reallyRun: \n",
    "    ## tell user some useful information\n",
    "    print('Path to stimuli is : {}'.format(path_to_catches))\n",
    "    print('Uploading to this bucket: {}'.format(catch_bucket_name))\n",
    "\n",
    "    ## establish connection to s3 \n",
    "#     s3 = boto3.resource('s3')\n",
    "    s3 = boto3.resource('s3', \n",
    "                  region_name='us-east-1', \n",
    "                  aws_access_key_id=access_id, #\"STORE THIS LOCALLY! Boto3 should be accessing ~/.aws/credentials but it's not for some reason\",     \n",
    "                  aws_secret_access_key= access_key ) #'THIS TOO!'\n",
    "    \n",
    "    ## create a bucket with the appropriate bucket name\n",
    "    try: \n",
    "        b = s3.create_bucket(Bucket=catch_bucket_name) \n",
    "        print('Created new bucket.')\n",
    "    except Exception as e:\n",
    "        print(e)\n",
    "        b = s3.Bucket(catch_bucket_name)\n",
    "        print('Bucket already exists.')\n",
    "\n",
    "    ## do we want to overwrite files on s3?\n",
    "    overwrite = False\n",
    "    \n",
    "    ## set bucket and objects to public\n",
    "    b.Acl().put(ACL='public-read') ## sets bucket to public\n",
    "\n",
    "    ## now let's loop through stim paths and actually upload to s3 (woot!)\n",
    "    for i,path_to_file in enumerate(full_catch_paths):\n",
    "        stim_name = path_to_file.split('/')[-1]\n",
    "        if ((check_exists(s3, catch_bucket_name, stim_name)==False) | (overwrite==True)):\n",
    "            print('Now uploading {} | {} of {}'.format(path_to_file.split('/')[-1],(i+1),len(full_catch_paths)))\n",
    "            s3.Object(catch_bucket_name,stim_name).put(Body=open(path_to_file,'rb')) ## upload stimuli\n",
    "            s3.Object(catch_bucket_name,stim_name).Acl().put(ACL='public-read') ## set access controls\n",
    "        else: \n",
    "            print('Skipping {} | {} of {} because it already exists.'.format(path_to_file.split('/')[-1],(i+1),len(full_stim_paths)))\n",
    "        clear_output(wait=True)\n",
    "\n",
    "    print('Done uploading images!')"
   ]
  },
  {
   "cell_type": "code",
   "execution_count": null,
   "metadata": {},
   "outputs": [],
   "source": []
  }
 ],
 "metadata": {
  "kernelspec": {
   "display_name": "Python 3",
   "language": "python",
   "name": "python3"
  },
  "language_info": {
   "codemirror_mode": {
    "name": "ipython",
    "version": 3
   },
   "file_extension": ".py",
   "mimetype": "text/x-python",
   "name": "python",
   "nbconvert_exporter": "python",
   "pygments_lexer": "ipython3",
   "version": "3.7.2"
  }
 },
 "nbformat": 4,
 "nbformat_minor": 2
}
