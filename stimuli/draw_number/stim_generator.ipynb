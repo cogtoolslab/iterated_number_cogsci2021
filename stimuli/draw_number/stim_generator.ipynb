{
 "cells": [
  {
   "cell_type": "code",
   "execution_count": 1,
   "metadata": {},
   "outputs": [],
   "source": [
    "from PIL import Image\n",
    "import PIL\n",
    "# import png\n",
    "import numpy as np\n",
    "import random\n",
    "import os\n",
    "from IPython.display import clear_output\n",
    "import itertools"
   ]
  },
  {
   "cell_type": "markdown",
   "metadata": {},
   "source": [
    "### set up paths, stim list, etc."
   ]
  },
  {
   "cell_type": "code",
   "execution_count": 14,
   "metadata": {},
   "outputs": [],
   "source": [
    "proj_dir = os.path.abspath('../..')\n",
    "stimuli_dir = os.path.join(proj_dir,'stimuli')\n",
    "data_dir = 'animal_silhouettes'\n",
    "out_dir = os.path.join(stimuli_dir,'stims')\n",
    "path_to_stims = os.path.join(stimuli_dir,'stims')\n",
    "\n",
    "if not os.path.exists(path_to_stims):\n",
    "    os.makedirs(path_to_stims)\n",
    "\n",
    "animals = sorted(['rabbit','wolf','squirrel','bear','deer','owl'])\n",
    "animal_paths = ['{}.png'.format(i) for i in animals]\n",
    "cardinalities = np.arange(8)"
   ]
  },
  {
   "cell_type": "markdown",
   "metadata": {},
   "source": [
    "### helper functions"
   ]
  },
  {
   "cell_type": "code",
   "execution_count": 34,
   "metadata": {},
   "outputs": [],
   "source": [
    "def load_images_from_folder(filename):\n",
    "    img = Image.open(filename)\n",
    "    return img\n",
    "\n",
    "def place_animals(big_backdrop='big_background.png',\n",
    "                  backdrop='background.png',\n",
    "                  animal='rabbit',\n",
    "                  cardinality=1,\n",
    "                  version=0,\n",
    "                  padding=30,\n",
    "                  jitter=20,                  \n",
    "                  data_dir='animal_silhouettes',\n",
    "                  out_dir='stims'):\n",
    "    \n",
    "    '''\n",
    "    input: \n",
    "        big_backdrop = filename, a big black rectangle slightly larger than \"backdrop\" to provide an outline\n",
    "        backdrop = filename, a big white rectangle that serves as the main background for animal silhouettes\n",
    "        animal = str, name of animal\n",
    "        cardinality = int, how many animals to place on this image\n",
    "        version = int, which random seed to use? controls spatial distribution of animals on background\n",
    "        padding = int, how much padding between any edge of image and any stim\n",
    "        jitter = int, how much jitter to allow away from exact grid placement?\n",
    "        data_dir = dir to load in animal silhouette source files from\n",
    "        out_dir = dir to save rendered stims to\n",
    "    \n",
    "    output: \n",
    "        saves PIL Image file out to out_dir directory, named `image_name`\n",
    "    '''\n",
    "\n",
    "    ## load in data\n",
    "    big_background = Image.open(os.path.join(data_dir,big_backdrop))\n",
    "    background = Image.open(os.path.join(data_dir,backdrop))\n",
    "    foreground = Image.open(os.path.join(data_dir,'{}.png'.format(animal)))\n",
    "\n",
    "    ## random seed? use version number to control random seed\n",
    "    random_seed = version\n",
    "\n",
    "    ## get whichever dim is longest for animal, width or height\n",
    "    maxdim_fore = np.max([np.shape(foreground)[0],np.shape(foreground)[1]])\n",
    "    maxdim_back = np.shape(background)[0] ## get dims of background\n",
    "    maxdim_back_padded = maxdim_back - padding*2\n",
    "\n",
    "    num_cols = np.int(np.floor(maxdim_back_padded/maxdim_fore)) ## how many animals can we tile in that direction\n",
    "\n",
    "    ## make sure we have at least as many grid cells as we have cardinalities\n",
    "    assert num_cols**2 >= np.max(cardinalities) \n",
    "\n",
    "    ## lower bound on animal placement in either horiz/vertical dimension\n",
    "    lb = padding \n",
    "    ## upper bound on animal placement\n",
    "    ub = maxdim_back - padding - maxdim_fore \n",
    "    ## grid coordinates along one dimension\n",
    "    cols = [np.int(i) for i in np.linspace(lb,ub,num = num_cols)]\n",
    "\n",
    "    ## allowable grid locations to place animal\n",
    "    legal_locations = np.array([p for p in itertools.product(cols,repeat=2)])\n",
    "\n",
    "    ## randomly sample a subset of these legal locations to be actual stim locations\n",
    "    inds = np.random.RandomState(random_seed).choice(np.arange(len(legal_locations)), size=cardinality, replace=False)\n",
    "    stim_locations = [tuple(i) for i in legal_locations[inds]]\n",
    "\n",
    "    ## get a bunch of random jitter magnitudes\n",
    "    jitter_mags = [np.int(i) for i in np.random.RandomState(random_seed).rand(len(stim_locations)*2)*jitter*2 - jitter]\n",
    "\n",
    "    ## get jittered stim_locations\n",
    "    jittered_stim_locations = [(tup[0] + jitter_mags[i], \n",
    "                                tup[1] + jitter_mags[i*2]) for (i,tup) in enumerate(stim_locations)]\n",
    "\n",
    "    ## now actually place the animals in those jittered_stim_locations to generate the stims\n",
    "    for new_coord in jittered_stim_locations:\n",
    "        background.paste(foreground, new_coord, foreground)\n",
    "\n",
    "    big_background.paste(background,(5,5),background)\n",
    "\n",
    "    ## save images as image_name out to out_dir\n",
    "    image_name = '{}_{}_{}.png'.format(animal, str(cardinality),str(version).zfill(3))\n",
    "    big_background.save(os.path.join(out_dir,image_name))        \n",
    "    "
   ]
  },
  {
   "cell_type": "code",
   "execution_count": 35,
   "metadata": {},
   "outputs": [],
   "source": [
    "## generate background images if they don't already exist\n",
    "if not os.path.exists(os.path.join(data_dir, 'background.png')):\n",
    "    frame = 700*[700*[255,255,255,255]]\n",
    "    big_frame = 710*[710*[0,0,0,255]]\n",
    "    png.from_array(frame, 'RGBA').save(os.path.join(data_dir, 'background.png'))\n",
    "    png.from_array(big_frame, 'RGBA').save(os.path.join(data_dir, 'big_background.png'))"
   ]
  },
  {
   "cell_type": "code",
   "execution_count": 15,
   "metadata": {},
   "outputs": [
    {
     "name": "stdout",
     "output_type": "stream",
     "text": [
      "Done!\n"
     ]
    }
   ],
   "source": [
    "## display params\n",
    "num_cardinalities = 8\n",
    "num_versions = 100\n",
    "\n",
    "for i,animal in enumerate(animals):\n",
    "    for num in np.arange(1,num_cardinalities+1):\n",
    "        for v in np.arange(num_versions):\n",
    "            print('generating animal: {} | cardinality: {} | version: {}'.format(animal, num, v))\n",
    "            clear_output(wait=True)\n",
    "            place_animals(big_backdrop='big_background.png',\n",
    "                          backdrop='background.png',\n",
    "                          animal=animal,\n",
    "                          cardinality=num,\n",
    "                          version=v,\n",
    "                          padding=30,\n",
    "                          jitter=20,                  \n",
    "                          data_dir='animal_silhouettes',\n",
    "                          out_dir='stims')        \n",
    "print('Done!')"
   ]
  },
  {
   "cell_type": "code",
   "execution_count": null,
   "metadata": {},
   "outputs": [],
   "source": []
  },
  {
   "cell_type": "code",
   "execution_count": null,
   "metadata": {},
   "outputs": [],
   "source": []
  },
  {
   "cell_type": "code",
   "execution_count": null,
   "metadata": {},
   "outputs": [],
   "source": []
  },
  {
   "cell_type": "code",
   "execution_count": null,
   "metadata": {},
   "outputs": [],
   "source": []
  },
  {
   "cell_type": "code",
   "execution_count": null,
   "metadata": {},
   "outputs": [],
   "source": []
  },
  {
   "cell_type": "code",
   "execution_count": 114,
   "metadata": {},
   "outputs": [],
   "source": []
  },
  {
   "cell_type": "code",
   "execution_count": null,
   "metadata": {},
   "outputs": [],
   "source": []
  },
  {
   "cell_type": "code",
   "execution_count": null,
   "metadata": {},
   "outputs": [],
   "source": []
  },
  {
   "cell_type": "code",
   "execution_count": null,
   "metadata": {},
   "outputs": [],
   "source": []
  }
 ],
 "metadata": {
  "kernelspec": {
   "display_name": "Python 3",
   "language": "python",
   "name": "python3"
  },
  "language_info": {
   "codemirror_mode": {
    "name": "ipython",
    "version": 3
   },
   "file_extension": ".py",
   "mimetype": "text/x-python",
   "name": "python",
   "nbconvert_exporter": "python",
   "pygments_lexer": "ipython3",
   "version": "3.7.2"
  }
 },
 "nbformat": 4,
 "nbformat_minor": 2
}
